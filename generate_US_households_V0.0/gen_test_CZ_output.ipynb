{
 "cells": [
  {
   "cell_type": "code",
   "execution_count": 1,
   "metadata": {},
   "outputs": [
    {
     "data": {
      "application/vnd.microsoft.datawrangler.viewer.v0+json": {
       "columns": [
        {
         "name": "index",
         "rawType": "int64",
         "type": "integer"
        },
        {
         "name": "census_block_group",
         "rawType": "int64",
         "type": "integer"
        },
        {
         "name": "B00001e1",
         "rawType": "float64",
         "type": "float"
        },
        {
         "name": "B00001m1",
         "rawType": "float64",
         "type": "float"
        },
        {
         "name": "B00002e1",
         "rawType": "float64",
         "type": "float"
        },
        {
         "name": "B00002m1",
         "rawType": "float64",
         "type": "float"
        }
       ],
       "conversionMethod": "pd.DataFrame",
       "ref": "afbe2eec-6c16-470e-8c1f-1329f0514aac",
       "rows": [
        [
         "0",
         "10010201001",
         "72.0",
         "-1.0",
         "32.0",
         "-1.0"
        ],
        [
         "1",
         "10010201002",
         "173.0",
         "-1.0",
         "66.0",
         "-1.0"
        ],
        [
         "2",
         "10010202001",
         "100.0",
         "-1.0",
         "43.0",
         "-1.0"
        ],
        [
         "3",
         "10010202002",
         "167.0",
         "-1.0",
         "54.0",
         "-1.0"
        ],
        [
         "4",
         "10010203001",
         "184.0",
         "-1.0",
         "80.0",
         "-1.0"
        ]
       ],
       "shape": {
        "columns": 5,
        "rows": 5
       }
      },
      "text/html": [
       "<div>\n",
       "<style scoped>\n",
       "    .dataframe tbody tr th:only-of-type {\n",
       "        vertical-align: middle;\n",
       "    }\n",
       "\n",
       "    .dataframe tbody tr th {\n",
       "        vertical-align: top;\n",
       "    }\n",
       "\n",
       "    .dataframe thead th {\n",
       "        text-align: right;\n",
       "    }\n",
       "</style>\n",
       "<table border=\"1\" class=\"dataframe\">\n",
       "  <thead>\n",
       "    <tr style=\"text-align: right;\">\n",
       "      <th></th>\n",
       "      <th>census_block_group</th>\n",
       "      <th>B00001e1</th>\n",
       "      <th>B00001m1</th>\n",
       "      <th>B00002e1</th>\n",
       "      <th>B00002m1</th>\n",
       "    </tr>\n",
       "  </thead>\n",
       "  <tbody>\n",
       "    <tr>\n",
       "      <th>0</th>\n",
       "      <td>10010201001</td>\n",
       "      <td>72.0</td>\n",
       "      <td>-1.0</td>\n",
       "      <td>32.0</td>\n",
       "      <td>-1.0</td>\n",
       "    </tr>\n",
       "    <tr>\n",
       "      <th>1</th>\n",
       "      <td>10010201002</td>\n",
       "      <td>173.0</td>\n",
       "      <td>-1.0</td>\n",
       "      <td>66.0</td>\n",
       "      <td>-1.0</td>\n",
       "    </tr>\n",
       "    <tr>\n",
       "      <th>2</th>\n",
       "      <td>10010202001</td>\n",
       "      <td>100.0</td>\n",
       "      <td>-1.0</td>\n",
       "      <td>43.0</td>\n",
       "      <td>-1.0</td>\n",
       "    </tr>\n",
       "    <tr>\n",
       "      <th>3</th>\n",
       "      <td>10010202002</td>\n",
       "      <td>167.0</td>\n",
       "      <td>-1.0</td>\n",
       "      <td>54.0</td>\n",
       "      <td>-1.0</td>\n",
       "    </tr>\n",
       "    <tr>\n",
       "      <th>4</th>\n",
       "      <td>10010203001</td>\n",
       "      <td>184.0</td>\n",
       "      <td>-1.0</td>\n",
       "      <td>80.0</td>\n",
       "      <td>-1.0</td>\n",
       "    </tr>\n",
       "  </tbody>\n",
       "</table>\n",
       "</div>"
      ],
      "text/plain": [
       "   census_block_group  B00001e1  B00001m1  B00002e1  B00002m1\n",
       "0         10010201001      72.0      -1.0      32.0      -1.0\n",
       "1         10010201002     173.0      -1.0      66.0      -1.0\n",
       "2         10010202001     100.0      -1.0      43.0      -1.0\n",
       "3         10010202002     167.0      -1.0      54.0      -1.0\n",
       "4         10010203001     184.0      -1.0      80.0      -1.0"
      ]
     },
     "metadata": {},
     "output_type": "display_data"
    }
   ],
   "source": [
    "import pandas as pd\n",
    "import random\n",
    "import yaml\n",
    "import json\n",
    "\n",
    "data = pd.read_csv(\"safegraph_cbg_population_estimate.csv\")\n",
    "display(data.head())"
   ]
  },
  {
   "cell_type": "code",
   "execution_count": 8,
   "metadata": {},
   "outputs": [
    {
     "name": "stdout",
     "output_type": "stream",
     "text": [
      "8205\n",
      "83 counties in the data\n",
      "{'165', '095', '045', '105', '049', '075', '091', '135', '077', '163', '007', '023', '029', '009', '061', '139', '003', '129', '059', '113', '119', '111', '057', '157', '039', '159', '115', '041', '055', '101', '109', '125', '051', '019', '127', '021', '103', '083', '133', '005', '073', '053', '025', '027', '141', '011', '063', '067', '131', '013', '117', '149', '069', '093', '087', '065', '047', '161', '001', '035', '099', '143', '123', '089', '079', '043', '153', '031', '121', '147', '097', '085', '071', '137', '151', '015', '033', '107', '081', '145', '037', '155', '017'}\n"
     ]
    }
   ],
   "source": [
    "STATE_FIPS = \"26\"\n",
    "\n",
    "# Filter the data for the specified state\n",
    "cbgs = list(data['census_block_group'])\n",
    "states = [str(cbg)[:2] for cbg in cbgs]\n",
    "state_data = [cbg for cbg, state in zip(cbgs, states) if state == STATE_FIPS]\n",
    "print(len(state_data))\n",
    "\n",
    "# print list of counties in the state\n",
    "counties = set([str(cbg)[2:5] for cbg in state_data])\n",
    "print(len(counties), \"counties in the data\")\n",
    "print(counties)\n"
   ]
  },
  {
   "cell_type": "code",
   "execution_count": 12,
   "metadata": {},
   "outputs": [
    {
     "name": "stdout",
     "output_type": "stream",
     "text": [
      "624\n",
      "70799\n"
     ]
    }
   ],
   "source": [
    "COUNTY_FIPS = [\"099\"]\n",
    "\n",
    "# Pick 80% of the cbgs from each county\n",
    "county_data = [cbg for cbg in state_data if str(cbg)[2:5] in COUNTY_FIPS]\n",
    "# shuffle the data\n",
    "random.shuffle(county_data)\n",
    "# pick random portion of the data  \n",
    "county_data = county_data[:int(1*len(county_data))]\n",
    "# filter out any rows with empty values\n",
    "county_data = [cbg for cbg in county_data if not pd.isnull(data[data['census_block_group'] == cbg]['B00001e1'].values[0])]\n",
    "# print the number of cbgs\n",
    "print(len(county_data))\n",
    "# print the total population\n",
    "print(int(sum(data[data['census_block_group'].isin(county_data)]['B00001e1'])))\n"
   ]
  },
  {
   "cell_type": "code",
   "execution_count": 13,
   "metadata": {},
   "outputs": [],
   "source": [
    "# Create dictionary of cbgs in county_data and their population\n",
    "cbg_pop = {cbg: data[data['census_block_group'] == cbg]['B00001e1'].values[0] for cbg in county_data}\n",
    "# convert populations to integers\n",
    "cbg_pop = {str(cbg): int(pop) for cbg, pop in cbg_pop.items()}\n",
    "cbg_pop = {\"GEOIDs\": cbg_pop}\n",
    "\n",
    "# Write the dictionary to a yaml file\n",
    "with open(\"CZ_output_test.yaml\", \"w\") as f:\n",
    "    yaml.dump(cbg_pop, f)"
   ]
  }
 ],
 "metadata": {
  "kernelspec": {
   "display_name": ".venv",
   "language": "python",
   "name": "python3"
  },
  "language_info": {
   "codemirror_mode": {
    "name": "ipython",
    "version": 3
   },
   "file_extension": ".py",
   "mimetype": "text/x-python",
   "name": "python",
   "nbconvert_exporter": "python",
   "pygments_lexer": "ipython3",
   "version": "3.11.11"
  }
 },
 "nbformat": 4,
 "nbformat_minor": 2
}
